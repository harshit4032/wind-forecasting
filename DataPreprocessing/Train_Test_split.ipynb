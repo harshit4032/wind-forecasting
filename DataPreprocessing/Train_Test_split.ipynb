{
 "cells": [
  {
   "cell_type": "code",
   "execution_count": 11,
   "metadata": {},
   "outputs": [],
   "source": [
    "#  Import Libraries\n",
    "import pandas as pd\n",
    "import os"
   ]
  },
  {
   "cell_type": "code",
   "execution_count": 12,
   "metadata": {},
   "outputs": [],
   "source": [
    "data = pd.read_csv('../Data/Augmented_Combined_data.csv', parse_dates=['Time'], index_col='Time')"
   ]
  },
  {
   "cell_type": "code",
   "execution_count": 13,
   "metadata": {},
   "outputs": [],
   "source": [
    "# Ensure your datetime index is sorted\n",
    "augmented_data = data.sort_index()\n",
    "\n",
    "# Define cutoff point (e.g. 80% train, 20% test)\n",
    "cutoff_date = augmented_data.index[int(0.8 * len(augmented_data))]\n",
    "\n",
    "train_data = augmented_data.loc[augmented_data.index <= cutoff_date]\n",
    "test_data = augmented_data.loc[augmented_data.index > cutoff_date]\n"
   ]
  },
  {
   "cell_type": "code",
   "execution_count": 14,
   "metadata": {},
   "outputs": [
    {
     "name": "stdout",
     "output_type": "stream",
     "text": [
      "<class 'pandas.core.frame.DataFrame'>\n",
      "DatetimeIndex: 210216 entries, 2021-01-01 01:00:00 to 2021-12-31 23:00:00\n",
      "Data columns (total 11 columns):\n",
      " #   Column               Non-Null Count   Dtype  \n",
      "---  ------               --------------   -----  \n",
      " 0   temperature_2m       210216 non-null  float64\n",
      " 1   relativehumidity_2m  210216 non-null  float64\n",
      " 2   dewpoint_2m          210216 non-null  float64\n",
      " 3   windspeed_10m        210216 non-null  float64\n",
      " 4   windspeed_100m       210216 non-null  float64\n",
      " 5   winddirection_10m    210216 non-null  int64  \n",
      " 6   winddirection_100m   210216 non-null  int64  \n",
      " 7   windgusts_10m        210216 non-null  float64\n",
      " 8   Power                210216 non-null  float64\n",
      " 9   Location             210216 non-null  object \n",
      " 10  augmented            210216 non-null  int64  \n",
      "dtypes: float64(7), int64(3), object(1)\n",
      "memory usage: 19.2+ MB\n"
     ]
    }
   ],
   "source": [
    "test_data.info()"
   ]
  },
  {
   "cell_type": "code",
   "execution_count": 15,
   "metadata": {},
   "outputs": [
    {
     "name": "stdout",
     "output_type": "stream",
     "text": [
      "<class 'pandas.core.frame.DataFrame'>\n",
      "DatetimeIndex: 840984 entries, 2017-01-02 00:00:00 to 2021-01-01 00:00:00\n",
      "Data columns (total 11 columns):\n",
      " #   Column               Non-Null Count   Dtype  \n",
      "---  ------               --------------   -----  \n",
      " 0   temperature_2m       840984 non-null  float64\n",
      " 1   relativehumidity_2m  840984 non-null  float64\n",
      " 2   dewpoint_2m          840984 non-null  float64\n",
      " 3   windspeed_10m        840984 non-null  float64\n",
      " 4   windspeed_100m       840984 non-null  float64\n",
      " 5   winddirection_10m    840984 non-null  int64  \n",
      " 6   winddirection_100m   840984 non-null  int64  \n",
      " 7   windgusts_10m        840984 non-null  float64\n",
      " 8   Power                840984 non-null  float64\n",
      " 9   Location             840984 non-null  object \n",
      " 10  augmented            840984 non-null  int64  \n",
      "dtypes: float64(7), int64(3), object(1)\n",
      "memory usage: 77.0+ MB\n"
     ]
    }
   ],
   "source": [
    "train_data.info()"
   ]
  },
  {
   "cell_type": "code",
   "execution_count": 16,
   "metadata": {},
   "outputs": [],
   "source": [
    "os.makedirs('../Data/Training', exist_ok=True)\n",
    "train_data.to_csv('../Data/Training/augmented_training_data.csv')"
   ]
  },
  {
   "cell_type": "code",
   "execution_count": 24,
   "metadata": {},
   "outputs": [],
   "source": [
    "os.makedirs('../Data/Testing', exist_ok=True)\n",
    "test_data.to_csv('../Data/Testing/augmented_testing_data.csv')"
   ]
  },
  {
   "cell_type": "code",
   "execution_count": 18,
   "metadata": {},
   "outputs": [],
   "source": [
    "data = pd.read_csv('../Data/Combined.csv', parse_dates=['Time'], index_col='Time')"
   ]
  },
  {
   "cell_type": "code",
   "execution_count": 20,
   "metadata": {},
   "outputs": [],
   "source": [
    "# Ensure your datetime index is sorted\n",
    "orignal_data = data.sort_index()\n",
    "\n",
    "# Define cutoff point (e.g. 80% train, 20% test)\n",
    "cutoff_date = orignal_data.index[int(0.8 * len(orignal_data))]\n",
    "\n",
    "train_data = orignal_data.loc[orignal_data.index <= cutoff_date]\n",
    "test_data = orignal_data.loc[orignal_data.index > cutoff_date]"
   ]
  },
  {
   "cell_type": "code",
   "execution_count": 21,
   "metadata": {},
   "outputs": [
    {
     "name": "stdout",
     "output_type": "stream",
     "text": [
      "<class 'pandas.core.frame.DataFrame'>\n",
      "DatetimeIndex: 140164 entries, 2017-01-02 00:00:00 to 2021-01-01 00:00:00\n",
      "Data columns (total 14 columns):\n",
      " #   Column               Non-Null Count   Dtype  \n",
      "---  ------               --------------   -----  \n",
      " 0   temperature_2m       140164 non-null  float64\n",
      " 1   relativehumidity_2m  140164 non-null  int64  \n",
      " 2   dewpoint_2m          140164 non-null  float64\n",
      " 3   windspeed_10m        140164 non-null  float64\n",
      " 4   windspeed_100m       140164 non-null  float64\n",
      " 5   winddirection_10m    140164 non-null  int64  \n",
      " 6   winddirection_100m   140164 non-null  int64  \n",
      " 7   windgusts_10m        140164 non-null  float64\n",
      " 8   Power                140164 non-null  float64\n",
      " 9   Location             140164 non-null  object \n",
      " 10  hour                 140164 non-null  int64  \n",
      " 11  month                140164 non-null  int64  \n",
      " 12  dayofweek            140164 non-null  int64  \n",
      " 13  Month                140164 non-null  int64  \n",
      "dtypes: float64(6), int64(7), object(1)\n",
      "memory usage: 16.0+ MB\n"
     ]
    }
   ],
   "source": [
    "train_data.info()"
   ]
  },
  {
   "cell_type": "code",
   "execution_count": 22,
   "metadata": {},
   "outputs": [
    {
     "name": "stdout",
     "output_type": "stream",
     "text": [
      "<class 'pandas.core.frame.DataFrame'>\n",
      "DatetimeIndex: 35036 entries, 2021-01-01 01:00:00 to 2021-12-31 23:00:00\n",
      "Data columns (total 14 columns):\n",
      " #   Column               Non-Null Count  Dtype  \n",
      "---  ------               --------------  -----  \n",
      " 0   temperature_2m       35036 non-null  float64\n",
      " 1   relativehumidity_2m  35036 non-null  int64  \n",
      " 2   dewpoint_2m          35036 non-null  float64\n",
      " 3   windspeed_10m        35036 non-null  float64\n",
      " 4   windspeed_100m       35036 non-null  float64\n",
      " 5   winddirection_10m    35036 non-null  int64  \n",
      " 6   winddirection_100m   35036 non-null  int64  \n",
      " 7   windgusts_10m        35036 non-null  float64\n",
      " 8   Power                35036 non-null  float64\n",
      " 9   Location             35036 non-null  object \n",
      " 10  hour                 35036 non-null  int64  \n",
      " 11  month                35036 non-null  int64  \n",
      " 12  dayofweek            35036 non-null  int64  \n",
      " 13  Month                35036 non-null  int64  \n",
      "dtypes: float64(6), int64(7), object(1)\n",
      "memory usage: 4.0+ MB\n"
     ]
    }
   ],
   "source": [
    "test_data.info()"
   ]
  },
  {
   "cell_type": "code",
   "execution_count": 25,
   "metadata": {},
   "outputs": [],
   "source": [
    "os.makedirs('../Data/Training', exist_ok=True)\n",
    "train_data.to_csv('../Data/Training/orignal_training_data.csv')"
   ]
  },
  {
   "cell_type": "code",
   "execution_count": 26,
   "metadata": {},
   "outputs": [],
   "source": [
    "os.makedirs('../Data/Testing', exist_ok=True)\n",
    "test_data.to_csv('../Data/Testing/orignal_testing_data.csv')"
   ]
  },
  {
   "cell_type": "code",
   "execution_count": null,
   "metadata": {},
   "outputs": [],
   "source": []
  }
 ],
 "metadata": {
  "kernelspec": {
   "display_name": "agent_env",
   "language": "python",
   "name": "python3"
  },
  "language_info": {
   "codemirror_mode": {
    "name": "ipython",
    "version": 3
   },
   "file_extension": ".py",
   "mimetype": "text/x-python",
   "name": "python",
   "nbconvert_exporter": "python",
   "pygments_lexer": "ipython3",
   "version": "3.10.16"
  }
 },
 "nbformat": 4,
 "nbformat_minor": 2
}
